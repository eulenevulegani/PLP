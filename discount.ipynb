{
 "cells": [
  {
   "cell_type": "code",
   "execution_count": 23,
   "id": "657a99aa-d81b-4c7c-a25f-71e0764f7152",
   "metadata": {
    "tags": []
   },
   "outputs": [
    {
     "name": "stdin",
     "output_type": "stream",
     "text": [
      "Enter Original Price:  100\n",
      "Enter discount as a percent:  15\n"
     ]
    },
    {
     "name": "stdout",
     "output_type": "stream",
     "text": [
      "Final Price: 85.0\n"
     ]
    }
   ],
   "source": [
    "price_input = input(\"Enter Original Price: \")\n",
    "discount_percent_input = input(\"Enter discount as a percent: \")\n",
    "\n",
    "try:\n",
    "    price = float(price_input)\n",
    "    discount_percent = float(discount_percent_input)\n",
    "    \n",
    "    def calculate_discount(price, discount_percent):\n",
    "        if discount_percent < 20:\n",
    "            result = price * (1 - discount_percent / 100)\n",
    "            print(\"Final Price:\", result)\n",
    "        else:\n",
    "            print(\"Final Price:\", price)\n",
    "\n",
    "    calculate_discount(price, discount_percent)\n",
    "\n",
    "except ValueError:\n",
    "    print(\"Please enter valid numeric values for price and discount.\")\n"
   ]
  },
  {
   "cell_type": "code",
   "execution_count": null,
   "id": "0cdf322e-1093-45f3-ac23-f8ee20fc66c3",
   "metadata": {},
   "outputs": [],
   "source": []
  }
 ],
 "metadata": {
  "kernelspec": {
   "display_name": "Python 3 (ipykernel)",
   "language": "python",
   "name": "python3"
  },
  "language_info": {
   "codemirror_mode": {
    "name": "ipython",
    "version": 3
   },
   "file_extension": ".py",
   "mimetype": "text/x-python",
   "name": "python",
   "nbconvert_exporter": "python",
   "pygments_lexer": "ipython3",
   "version": "3.11.5"
  }
 },
 "nbformat": 4,
 "nbformat_minor": 5
}
