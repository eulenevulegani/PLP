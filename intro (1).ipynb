{
 "cells": [
  {
   "cell_type": "code",
   "execution_count": 6,
   "id": "07b76c59-4904-4277-880d-638cec1f15af",
   "metadata": {},
   "outputs": [
    {
     "name": "stdout",
     "output_type": "stream",
     "text": [
      "Hello, my name is Eulene. I'm 26 and I identify as Female.\n"
     ]
    }
   ],
   "source": [
    "class person:\n",
    "    def __init__ (self,name,age,gender):\n",
    "        self.name= name\n",
    "        self.age = age\n",
    "        self.gender = gender\n",
    "    def introduce (self):\n",
    "        print(f\"Hello, my name is {self.name}. I'm {self.age} and I identify as {self.gender}.\")\n",
    "\n",
    "person = person (\"Eulene\",26,\"Female\")\n",
    "person.introduce()"
   ]
  },
  {
   "cell_type": "code",
   "execution_count": null,
   "id": "96333fde-3a52-4a42-8805-2667c19ce8c2",
   "metadata": {},
   "outputs": [],
   "source": []
  }
 ],
 "metadata": {
  "kernelspec": {
   "display_name": "Python 3 (ipykernel)",
   "language": "python",
   "name": "python3"
  },
  "language_info": {
   "codemirror_mode": {
    "name": "ipython",
    "version": 3
   },
   "file_extension": ".py",
   "mimetype": "text/x-python",
   "name": "python",
   "nbconvert_exporter": "python",
   "pygments_lexer": "ipython3",
   "version": "3.11.7"
  }
 },
 "nbformat": 4,
 "nbformat_minor": 5
}
