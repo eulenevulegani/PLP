{
 "cells": [
  {
   "cell_type": "code",
   "execution_count": 1,
   "id": "7ae4ae84-cab2-4583-b9f2-6001e9c61470",
   "metadata": {},
   "outputs": [],
   "source": [
    "import json\n",
    "\n",
    "def load_data(file_path):\n",
    "    with open(file_path, 'r') as file:\n",
    "        data = json.load(file)\n",
    "    return data\n",
    "\n",
    "# Assuming data.json is in the same directory as this script\n",
    "dictionary = load_data('data.json')\n"
   ]
  },
  {
   "cell_type": "code",
   "execution_count": 3,
   "id": "eff3ed71-0213-4112-8de5-c214b8b75e34",
   "metadata": {},
   "outputs": [
    {
     "name": "stdin",
     "output_type": "stream",
     "text": [
      "Enter a word to get its definition:  boy\n"
     ]
    },
    {
     "name": "stdout",
     "output_type": "stream",
     "text": [
      "['A young male person, usually a child or teenager.']\n"
     ]
    }
   ],
   "source": [
    "import difflib\n",
    "def get_definition(word):\n",
    "    word = word.lower()  # Convert the word to lowercase\n",
    "    if word in dictionary:\n",
    "        return dictionary[word]\n",
    "    else:\n",
    "        # Word not found, suggest similar words\n",
    "        suggestions = difflib.get_close_matches(word, dictionary.keys())\n",
    "        if suggestions:\n",
    "            return f\"Word not found. Did you mean '{suggestions[0]}'?\"\n",
    "        else:\n",
    "            return \"Word not found.\"\n",
    "\n",
    "# Assuming data.json is in the same directory as this script\n",
    "dictionary = load_data('data.json')\n",
    "\n",
    "# Test the function\n",
    "word = input(\"Enter a word to get its definition: \")\n",
    "definition = get_definition(word)\n",
    "print(definition)\n"
   ]
  },
  {
   "cell_type": "code",
   "execution_count": null,
   "id": "87428479-6ef0-4f0b-be7f-483ccae5d23e",
   "metadata": {},
   "outputs": [],
   "source": []
  }
 ],
 "metadata": {
  "kernelspec": {
   "display_name": "Python 3 (ipykernel)",
   "language": "python",
   "name": "python3"
  },
  "language_info": {
   "codemirror_mode": {
    "name": "ipython",
    "version": 3
   },
   "file_extension": ".py",
   "mimetype": "text/x-python",
   "name": "python",
   "nbconvert_exporter": "python",
   "pygments_lexer": "ipython3",
   "version": "3.11.7"
  }
 },
 "nbformat": 4,
 "nbformat_minor": 5
}
