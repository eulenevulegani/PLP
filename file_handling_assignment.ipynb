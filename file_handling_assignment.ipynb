{
 "cells": [
  {
   "cell_type": "code",
   "execution_count": 12,
   "id": "85f0c6b5-e944-4884-8fa5-b581dd130999",
   "metadata": {},
   "outputs": [
    {
     "name": "stdout",
     "output_type": "stream",
     "text": [
      "file created and printed sucessfully.\n",
      "\n",
      "File content:\n",
      "Hi, my name is Glow.\n",
      "I'm pleased 2 meet you.\n",
      "How can I help you today?.\n",
      "\n",
      "File content:\n",
      "I am  skincare guru.\n",
      "I can help you with all your skincare concerns.\n",
      "But you'd still have to do your routine by yourself...\n",
      "\n"
     ]
    }
   ],
   "source": [
    "def create_and_write_file():\n",
    "    try:\n",
    "        with open (\"my_file.txt\",\"w\") as file:\n",
    "            file.write (\"Hi, my name is Glow.\\n\")\n",
    "            file.write (\"I'm pleased 2 meet you.\\n\")\n",
    "            file.write (\"How can I help you today?.\\n\")\n",
    "        print (f\"file created and printed sucessfully.\\n\")\n",
    "    except exception as e:\n",
    "        print (f\"Something went wrong while creating and writing the file:{e}\")\n",
    "\n",
    "def read_and_display_file ():\n",
    "    try:\n",
    "        with open(\"my_file.txt\",\"r\") as file:\n",
    "            content = file.read()\n",
    "            print (\"File content:\")\n",
    "            print (content)\n",
    "    except FileNotFoundError:\n",
    "        print(f\"I tried everything but the file was not found\")\n",
    "    except PermissionError :\n",
    "        print(f\"You are not allowed to access this file.Sorry\")\n",
    "    except Exception as e:\n",
    "        print (f\"Something went wrong while creating and writing the file:{e}\")\n",
    "\n",
    "def append_file ():\n",
    "    try:\n",
    "        with open (\"my_file.txt\",\"w\")as file:\n",
    "            file.write (\"I am  skincare guru.\\n\")\n",
    "            file.write (\"I can help you with all your skincare concerns.\\n\")\n",
    "            file.write (\"But you'd still have to do your routine by yourself...\\n\")\n",
    "    except FileNotFoundError:\n",
    "        print(f\"I tried everything but the file was not found\")\n",
    "    except PermissionError :\n",
    "        print(f\"You are not allowed to access this file.Sorry\")\n",
    "    except Exception as e:\n",
    "        print (f\"Something went wrong while creating and writing the file:{e}\")\n",
    "\n",
    "\n",
    "def main ():\n",
    "    create_and_write_file()\n",
    "    read_and_display_file ()\n",
    "    append_file ()\n",
    "    read_and_display_file()\n",
    "\n",
    "if __name__ == \"__main__\":\n",
    "    main()\n",
    "\n",
    "        \n",
    "\n",
    "           "
   ]
  },
  {
   "cell_type": "code",
   "execution_count": null,
   "id": "3eecda97-eac7-4c45-8316-ab0ede4d4d46",
   "metadata": {},
   "outputs": [],
   "source": []
  }
 ],
 "metadata": {
  "kernelspec": {
   "display_name": "Python 3 (ipykernel)",
   "language": "python",
   "name": "python3"
  },
  "language_info": {
   "codemirror_mode": {
    "name": "ipython",
    "version": 3
   },
   "file_extension": ".py",
   "mimetype": "text/x-python",
   "name": "python",
   "nbconvert_exporter": "python",
   "pygments_lexer": "ipython3",
   "version": "3.11.7"
  }
 },
 "nbformat": 4,
 "nbformat_minor": 5
}
