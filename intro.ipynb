{
 "cells": [
  {
   "cell_type": "code",
   "execution_count": 3,
   "id": "07b76c59-4904-4277-880d-638cec1f15af",
   "metadata": {},
   "outputs": [
    {
     "data": {
      "text/plain": [
       "<bound method person.introduce of <__main__.person object at 0x00000203C8E08090>>"
      ]
     },
     "execution_count": 3,
     "metadata": {},
     "output_type": "execute_result"
    }
   ],
   "source": [
    "class person:\n",
    "    def __init__ (self,name,age,gender):\n",
    "        self.name= name\n",
    "        self.age = age\n",
    "        self.gender = gender\n",
    "    def introduce (self):\n",
    "        print(f\"Hello, my name is {self.name}. I'm {self.age} and I identify as {self.gender}.\")\n",
    "\n",
    "person = person (\"Eulene\",26,\"Female\")\n",
    "person.introduce\n",
    "    \n"
   ]
  },
  {
   "cell_type": "code",
   "execution_count": null,
   "id": "96333fde-3a52-4a42-8805-2667c19ce8c2",
   "metadata": {},
   "outputs": [],
   "source": []
  }
 ],
 "metadata": {
  "kernelspec": {
   "display_name": "Python 3 (ipykernel)",
   "language": "python",
   "name": "python3"
  },
  "language_info": {
   "codemirror_mode": {
    "name": "ipython",
    "version": 3
   },
   "file_extension": ".py",
   "mimetype": "text/x-python",
   "name": "python",
   "nbconvert_exporter": "python",
   "pygments_lexer": "ipython3",
   "version": "3.11.7"
  }
 },
 "nbformat": 4,
 "nbformat_minor": 5
}
